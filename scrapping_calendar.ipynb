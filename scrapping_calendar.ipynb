{
 "metadata": {
  "language_info": {
   "codemirror_mode": {
    "name": "ipython",
    "version": 3
   },
   "file_extension": ".py",
   "mimetype": "text/x-python",
   "name": "python",
   "nbconvert_exporter": "python",
   "pygments_lexer": "ipython3",
   "version": "3.9.4"
  },
  "orig_nbformat": 4,
  "kernelspec": {
   "name": "python3",
   "display_name": "Python 3.9.4 64-bit ('ecole_ia': conda)"
  },
  "interpreter": {
   "hash": "0d35e8fd8bb9dbc7b2c42a88126e53b3d6a72b7c47959c72e8446e8c3707341b"
  }
 },
 "nbformat": 4,
 "nbformat_minor": 2,
 "cells": [
  {
   "cell_type": "code",
   "execution_count": 1,
   "metadata": {},
   "outputs": [],
   "source": [
    "import pandas as pd\n",
    "import requests\n",
    "from bs4 import BeautifulSoup\n",
    "import json"
   ]
  },
  {
   "cell_type": "code",
   "execution_count": 2,
   "metadata": {},
   "outputs": [],
   "source": [
    "URL = 'https://www.lequipe.fr/Football/ligue-1/saison-2020-2021/page-calendrier-resultats'\n",
    "page = requests.get(URL)\n",
    "soup = BeautifulSoup(page.content, 'html.parser')\n",
    "results = soup.find_all('select', class_='SelectNav__select')"
   ]
  },
  {
   "cell_type": "code",
   "execution_count": 3,
   "metadata": {},
   "outputs": [],
   "source": [
    "list_url_journey = []\n",
    "for result in results:\n",
    "    liens_journey = result.find_all('option')\n",
    "    for liens in liens_journey:\n",
    "        list_url_journey.append(liens.get('value'))"
   ]
  },
  {
   "cell_type": "code",
   "execution_count": 14,
   "metadata": {},
   "outputs": [],
   "source": [
    "row_list = []\n",
    "for url_journey in list_url_journey:\n",
    "    journey = pd.read_json(url_journey, lines=True)\n",
    "    for match in journey['items'][0]:\n",
    "        try:\n",
    "            if len(match['items']) == 1:\n",
    "                match_dict={}\n",
    "                match_dict['place'] = match['items'][0]['event']['lieu']['ville']\n",
    "                match_dict['date'] = match['items'][0]['event']['date']\n",
    "                match_dict['dom_name'] = match['items'][0]['event']['specifics']['domicile']['equipe']['nom']\n",
    "                match_dict['ext_name'] = match['items'][0]['event']['specifics']['exterieur']['equipe']['nom']\n",
    "                match_dict['but_dom'] = match['items'][0]['event']['specifics']['score']['domicile']\n",
    "                match_dict['but_ext'] = match['items'][0]['event']['specifics']['score']['exterieur']\n",
    "                match_dict['winner'] = match['items'][0]['event']['specifics']['vainqueur']\n",
    "                row_list.append(match_dict)\n",
    "            elif len(match['items']) > 1:\n",
    "                for m in range(len(match['items'])):\n",
    "                    match_dict={}\n",
    "                    match_dict['place'] = match['items'][m]['event']['lieu']['ville']\n",
    "                    match_dict['date'] = match['items'][m]['event']['date']\n",
    "                    match_dict['dom_name'] = match['items'][m]['event']['specifics']['domicile']['equipe']['nom']\n",
    "                    match_dict['ext_name'] = match['items'][m]['event']['specifics']['exterieur']['equipe']['nom']\n",
    "                    match_dict['but_dom'] = match['items'][m]['event']['specifics']['score']['domicile']\n",
    "                    match_dict['but_ext'] = match['items'][m]['event']['specifics']['score']['exterieur']\n",
    "                    match_dict['winner'] = match['items'][m]['event']['specifics']['vainqueur']\n",
    "                    row_list.append(match_dict)\n",
    "        except:\n",
    "            pass\n",
    "\n",
    "data = pd.DataFrame(row_list)"
   ]
  },
  {
   "cell_type": "code",
   "execution_count": 16,
   "metadata": {},
   "outputs": [
    {
     "output_type": "execute_result",
     "data": {
      "text/plain": [
       "(380, 7)"
      ]
     },
     "metadata": {},
     "execution_count": 16
    }
   ],
   "source": [
    "data.shape"
   ]
  },
  {
   "cell_type": "code",
   "execution_count": 17,
   "metadata": {},
   "outputs": [
    {
     "output_type": "execute_result",
     "data": {
      "text/plain": [
       "      place                      date  dom_name    ext_name but_dom but_ext  \\\n",
       "0  Bordeaux  2020-08-21T19:00:00+0200  Bordeaux      Nantes       0       0   \n",
       "1     Dijon  2020-08-22T17:00:00+0200     Dijon      Angers       0       1   \n",
       "2     Lille  2020-08-22T21:00:00+0200     Lille      Rennes       1       1   \n",
       "3    Monaco  2020-08-23T13:00:00+0200    Monaco       Reims       2       2   \n",
       "4   Lorient  2020-08-23T15:00:00+0200   Lorient  Strasbourg       3       1   \n",
       "\n",
       "      winner  \n",
       "0   ex-aequo  \n",
       "1  exterieur  \n",
       "2   ex-aequo  \n",
       "3   ex-aequo  \n",
       "4   domicile  "
      ],
      "text/html": "<div>\n<style scoped>\n    .dataframe tbody tr th:only-of-type {\n        vertical-align: middle;\n    }\n\n    .dataframe tbody tr th {\n        vertical-align: top;\n    }\n\n    .dataframe thead th {\n        text-align: right;\n    }\n</style>\n<table border=\"1\" class=\"dataframe\">\n  <thead>\n    <tr style=\"text-align: right;\">\n      <th></th>\n      <th>place</th>\n      <th>date</th>\n      <th>dom_name</th>\n      <th>ext_name</th>\n      <th>but_dom</th>\n      <th>but_ext</th>\n      <th>winner</th>\n    </tr>\n  </thead>\n  <tbody>\n    <tr>\n      <th>0</th>\n      <td>Bordeaux</td>\n      <td>2020-08-21T19:00:00+0200</td>\n      <td>Bordeaux</td>\n      <td>Nantes</td>\n      <td>0</td>\n      <td>0</td>\n      <td>ex-aequo</td>\n    </tr>\n    <tr>\n      <th>1</th>\n      <td>Dijon</td>\n      <td>2020-08-22T17:00:00+0200</td>\n      <td>Dijon</td>\n      <td>Angers</td>\n      <td>0</td>\n      <td>1</td>\n      <td>exterieur</td>\n    </tr>\n    <tr>\n      <th>2</th>\n      <td>Lille</td>\n      <td>2020-08-22T21:00:00+0200</td>\n      <td>Lille</td>\n      <td>Rennes</td>\n      <td>1</td>\n      <td>1</td>\n      <td>ex-aequo</td>\n    </tr>\n    <tr>\n      <th>3</th>\n      <td>Monaco</td>\n      <td>2020-08-23T13:00:00+0200</td>\n      <td>Monaco</td>\n      <td>Reims</td>\n      <td>2</td>\n      <td>2</td>\n      <td>ex-aequo</td>\n    </tr>\n    <tr>\n      <th>4</th>\n      <td>Lorient</td>\n      <td>2020-08-23T15:00:00+0200</td>\n      <td>Lorient</td>\n      <td>Strasbourg</td>\n      <td>3</td>\n      <td>1</td>\n      <td>domicile</td>\n    </tr>\n  </tbody>\n</table>\n</div>"
     },
     "metadata": {},
     "execution_count": 17
    }
   ],
   "source": [
    "data.head()"
   ]
  },
  {
   "cell_type": "code",
   "execution_count": null,
   "metadata": {},
   "outputs": [],
   "source": []
  }
 ]
}