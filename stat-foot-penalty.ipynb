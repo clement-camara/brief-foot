{
 "cells": [
  {
   "cell_type": "code",
   "execution_count": 1,
   "id": "e0ace178",
   "metadata": {},
   "outputs": [],
   "source": [
    "import sqlite3\n",
    "import pandas as pd\n",
    "from datetime import datetime"
   ]
  },
  {
   "cell_type": "code",
   "execution_count": 2,
   "id": "1393a00e",
   "metadata": {},
   "outputs": [],
   "source": [
    "# Connection à la db, crée le fichier s'il n'existe pas déjà\n",
    "conn = sqlite3.connect('db_foot.sqlite3') \n",
    "c = conn.cursor()"
   ]
  },
  {
   "cell_type": "code",
   "execution_count": 3,
   "id": "54e860c4",
   "metadata": {},
   "outputs": [],
   "source": [
    "# Version pandas\n",
    "def insert_table(my_df, my_table):\n",
    "  '''Insert Dataframe into table specified'''\n",
    "  my_df.to_sql(my_table, conn, if_exists='append', index=False)\n",
    "\n",
    "def read_db(my_query):\n",
    "  '''Read sql query, read the db an return response in a dataframe'''\n",
    "  df = pd.read_sql(my_query, conn)\n",
    "  return df"
   ]
  },
  {
   "cell_type": "code",
   "execution_count": 9,
   "id": "70f78b61",
   "metadata": {},
   "outputs": [
    {
     "name": "stdout",
     "output_type": "stream",
     "text": [
      "('sqlite_sequence',)\n",
      "('matchs',)\n",
      "('goals',)\n",
      "('teams_matches',)\n",
      "('championships',)\n",
      "('teams',)\n",
      "('players',)\n"
     ]
    }
   ],
   "source": [
    "c.execute(\"SELECT ALL Name FROM sqlite_master\")\n",
    "rows = c.fetchall()\n",
    "for row in rows:\n",
    "    print(row)"
   ]
  },
  {
   "cell_type": "code",
   "execution_count": 17,
   "id": "f89d1853",
   "metadata": {},
   "outputs": [
    {
     "data": {
      "text/html": [
       "<div>\n",
       "<style scoped>\n",
       "    .dataframe tbody tr th:only-of-type {\n",
       "        vertical-align: middle;\n",
       "    }\n",
       "\n",
       "    .dataframe tbody tr th {\n",
       "        vertical-align: top;\n",
       "    }\n",
       "\n",
       "    .dataframe thead th {\n",
       "        text-align: right;\n",
       "    }\n",
       "</style>\n",
       "<table border=\"1\" class=\"dataframe\">\n",
       "  <thead>\n",
       "    <tr style=\"text-align: right;\">\n",
       "      <th></th>\n",
       "      <th>id</th>\n",
       "      <th>championship_id</th>\n",
       "      <th>name</th>\n",
       "      <th>city</th>\n",
       "      <th>coach_name</th>\n",
       "      <th>rank</th>\n",
       "      <th>created_at</th>\n",
       "      <th>updated_at</th>\n",
       "    </tr>\n",
       "  </thead>\n",
       "  <tbody>\n",
       "    <tr>\n",
       "      <th>0</th>\n",
       "      <td>1</td>\n",
       "      <td>1</td>\n",
       "      <td>Angers Sporting Club de l'Ouest</td>\n",
       "      <td>Angers</td>\n",
       "      <td>Gérald BATICLE</td>\n",
       "      <td>44</td>\n",
       "      <td>2021-07-01 11:24:36.283421</td>\n",
       "      <td>2021-07-01 11:24:36.285113</td>\n",
       "    </tr>\n",
       "    <tr>\n",
       "      <th>1</th>\n",
       "      <td>2</td>\n",
       "      <td>1</td>\n",
       "      <td>Football Club des Girondins de Bordeaux</td>\n",
       "      <td>Bordeaux</td>\n",
       "      <td>Jean-Louis GASSET</td>\n",
       "      <td>45</td>\n",
       "      <td>2021-07-01 11:24:36.283421</td>\n",
       "      <td>2021-07-01 11:24:36.285113</td>\n",
       "    </tr>\n",
       "    <tr>\n",
       "      <th>2</th>\n",
       "      <td>3</td>\n",
       "      <td>1</td>\n",
       "      <td>Stade Brestois 29</td>\n",
       "      <td>Brest</td>\n",
       "      <td>Michel DER ZAKARIAN</td>\n",
       "      <td>41</td>\n",
       "      <td>2021-07-01 11:24:36.283421</td>\n",
       "      <td>2021-07-01 11:24:36.285113</td>\n",
       "    </tr>\n",
       "    <tr>\n",
       "      <th>3</th>\n",
       "      <td>4</td>\n",
       "      <td>1</td>\n",
       "      <td>Dijon Football Côte-d'Or</td>\n",
       "      <td>Dijon</td>\n",
       "      <td>David LINARES</td>\n",
       "      <td>21</td>\n",
       "      <td>2021-07-01 11:24:36.283421</td>\n",
       "      <td>2021-07-01 11:24:36.285113</td>\n",
       "    </tr>\n",
       "    <tr>\n",
       "      <th>4</th>\n",
       "      <td>5</td>\n",
       "      <td>1</td>\n",
       "      <td>Racing Club de Lens</td>\n",
       "      <td>Lens</td>\n",
       "      <td>Franck HAISE</td>\n",
       "      <td>57</td>\n",
       "      <td>2021-07-01 11:24:36.283421</td>\n",
       "      <td>2021-07-01 11:24:36.285113</td>\n",
       "    </tr>\n",
       "    <tr>\n",
       "      <th>5</th>\n",
       "      <td>6</td>\n",
       "      <td>1</td>\n",
       "      <td>LOSC Lille</td>\n",
       "      <td>Lille</td>\n",
       "      <td>Christophe GALTIER</td>\n",
       "      <td>83</td>\n",
       "      <td>2021-07-01 11:24:36.283421</td>\n",
       "      <td>2021-07-01 11:24:36.285113</td>\n",
       "    </tr>\n",
       "    <tr>\n",
       "      <th>6</th>\n",
       "      <td>7</td>\n",
       "      <td>1</td>\n",
       "      <td>Football Club Lorient-Bretagne Sud</td>\n",
       "      <td>Lorient</td>\n",
       "      <td>Christophe PELISSIER</td>\n",
       "      <td>42</td>\n",
       "      <td>2021-07-01 11:24:36.283421</td>\n",
       "      <td>2021-07-01 11:24:36.285113</td>\n",
       "    </tr>\n",
       "    <tr>\n",
       "      <th>7</th>\n",
       "      <td>8</td>\n",
       "      <td>1</td>\n",
       "      <td>Olympique Lyonnais</td>\n",
       "      <td>Lyon</td>\n",
       "      <td>Peter BOSZ</td>\n",
       "      <td>76</td>\n",
       "      <td>2021-07-01 11:24:36.283421</td>\n",
       "      <td>2021-07-01 11:24:36.285113</td>\n",
       "    </tr>\n",
       "    <tr>\n",
       "      <th>8</th>\n",
       "      <td>9</td>\n",
       "      <td>1</td>\n",
       "      <td>Olympique de Marseille</td>\n",
       "      <td>Marseille</td>\n",
       "      <td>Jorge SAMPAOLI</td>\n",
       "      <td>60</td>\n",
       "      <td>2021-07-01 11:24:36.283421</td>\n",
       "      <td>2021-07-01 11:24:36.285113</td>\n",
       "    </tr>\n",
       "    <tr>\n",
       "      <th>9</th>\n",
       "      <td>10</td>\n",
       "      <td>1</td>\n",
       "      <td>Football Club de Metz</td>\n",
       "      <td>Metz</td>\n",
       "      <td>Frédéric ANTONETTI</td>\n",
       "      <td>47</td>\n",
       "      <td>2021-07-01 11:24:36.283421</td>\n",
       "      <td>2021-07-01 11:24:36.285113</td>\n",
       "    </tr>\n",
       "    <tr>\n",
       "      <th>10</th>\n",
       "      <td>11</td>\n",
       "      <td>1</td>\n",
       "      <td>Association sportive de Monaco FC</td>\n",
       "      <td>Monaco</td>\n",
       "      <td>Niko KOVAC</td>\n",
       "      <td>78</td>\n",
       "      <td>2021-07-01 11:24:36.283421</td>\n",
       "      <td>2021-07-01 11:24:36.285113</td>\n",
       "    </tr>\n",
       "    <tr>\n",
       "      <th>11</th>\n",
       "      <td>12</td>\n",
       "      <td>1</td>\n",
       "      <td>Montpellier-Herault Sport Club</td>\n",
       "      <td>Montpellier</td>\n",
       "      <td>Olivier DALL'OGLIO</td>\n",
       "      <td>54</td>\n",
       "      <td>2021-07-01 11:24:36.283421</td>\n",
       "      <td>2021-07-01 11:24:36.285113</td>\n",
       "    </tr>\n",
       "    <tr>\n",
       "      <th>12</th>\n",
       "      <td>13</td>\n",
       "      <td>1</td>\n",
       "      <td>Football Club de Nantes</td>\n",
       "      <td>Nantes</td>\n",
       "      <td>Antoine KOMBOUARE</td>\n",
       "      <td>40</td>\n",
       "      <td>2021-07-01 11:24:36.283421</td>\n",
       "      <td>2021-07-01 11:24:36.285113</td>\n",
       "    </tr>\n",
       "    <tr>\n",
       "      <th>13</th>\n",
       "      <td>14</td>\n",
       "      <td>1</td>\n",
       "      <td>Olympique Gymnaste Club Nice Côte d'Azur</td>\n",
       "      <td>Nice</td>\n",
       "      <td>Adrian URSEA</td>\n",
       "      <td>52</td>\n",
       "      <td>2021-07-01 11:24:36.283421</td>\n",
       "      <td>2021-07-01 11:24:36.285113</td>\n",
       "    </tr>\n",
       "    <tr>\n",
       "      <th>14</th>\n",
       "      <td>15</td>\n",
       "      <td>1</td>\n",
       "      <td>Nîmes Olympique</td>\n",
       "      <td>Nîmes</td>\n",
       "      <td>Pascal PLANCQUE</td>\n",
       "      <td>35</td>\n",
       "      <td>2021-07-01 11:24:36.283421</td>\n",
       "      <td>2021-07-01 11:24:36.285113</td>\n",
       "    </tr>\n",
       "    <tr>\n",
       "      <th>15</th>\n",
       "      <td>16</td>\n",
       "      <td>1</td>\n",
       "      <td>Paris-Saint-Germain Football Club</td>\n",
       "      <td>Paris</td>\n",
       "      <td>Mauricio POCHETTINO</td>\n",
       "      <td>82</td>\n",
       "      <td>2021-07-01 11:24:36.283421</td>\n",
       "      <td>2021-07-01 11:24:36.285113</td>\n",
       "    </tr>\n",
       "    <tr>\n",
       "      <th>16</th>\n",
       "      <td>17</td>\n",
       "      <td>1</td>\n",
       "      <td>Stade de Reims</td>\n",
       "      <td>Reims</td>\n",
       "      <td>Oscar GARCIA</td>\n",
       "      <td>42</td>\n",
       "      <td>2021-07-01 11:24:36.283421</td>\n",
       "      <td>2021-07-01 11:24:36.285113</td>\n",
       "    </tr>\n",
       "    <tr>\n",
       "      <th>17</th>\n",
       "      <td>18</td>\n",
       "      <td>1</td>\n",
       "      <td>Stade Rennais Football Club</td>\n",
       "      <td>Rennes</td>\n",
       "      <td>Bruno GENESIO</td>\n",
       "      <td>58</td>\n",
       "      <td>2021-07-01 11:24:36.283421</td>\n",
       "      <td>2021-07-01 11:24:36.285113</td>\n",
       "    </tr>\n",
       "    <tr>\n",
       "      <th>18</th>\n",
       "      <td>19</td>\n",
       "      <td>1</td>\n",
       "      <td>Association Sportive de St-Etienne</td>\n",
       "      <td>Saint-Étienne</td>\n",
       "      <td>Claude PUEL</td>\n",
       "      <td>46</td>\n",
       "      <td>2021-07-01 11:24:36.283421</td>\n",
       "      <td>2021-07-01 11:24:36.285113</td>\n",
       "    </tr>\n",
       "    <tr>\n",
       "      <th>19</th>\n",
       "      <td>20</td>\n",
       "      <td>1</td>\n",
       "      <td>Racing Club de Strasbourg Alsace</td>\n",
       "      <td>Strasbourg</td>\n",
       "      <td>Julien STEPHAN</td>\n",
       "      <td>42</td>\n",
       "      <td>2021-07-01 11:24:36.283421</td>\n",
       "      <td>2021-07-01 11:24:36.285113</td>\n",
       "    </tr>\n",
       "  </tbody>\n",
       "</table>\n",
       "</div>"
      ],
      "text/plain": [
       "    id  championship_id                                      name  \\\n",
       "0    1                1           Angers Sporting Club de l'Ouest   \n",
       "1    2                1   Football Club des Girondins de Bordeaux   \n",
       "2    3                1                         Stade Brestois 29   \n",
       "3    4                1                  Dijon Football Côte-d'Or   \n",
       "4    5                1                       Racing Club de Lens   \n",
       "5    6                1                                LOSC Lille   \n",
       "6    7                1        Football Club Lorient-Bretagne Sud   \n",
       "7    8                1                        Olympique Lyonnais   \n",
       "8    9                1                    Olympique de Marseille   \n",
       "9   10                1                     Football Club de Metz   \n",
       "10  11                1         Association sportive de Monaco FC   \n",
       "11  12                1            Montpellier-Herault Sport Club   \n",
       "12  13                1                   Football Club de Nantes   \n",
       "13  14                1  Olympique Gymnaste Club Nice Côte d'Azur   \n",
       "14  15                1                           Nîmes Olympique   \n",
       "15  16                1         Paris-Saint-Germain Football Club   \n",
       "16  17                1                            Stade de Reims   \n",
       "17  18                1               Stade Rennais Football Club   \n",
       "18  19                1        Association Sportive de St-Etienne   \n",
       "19  20                1          Racing Club de Strasbourg Alsace   \n",
       "\n",
       "             city            coach_name  rank                  created_at  \\\n",
       "0          Angers        Gérald BATICLE    44  2021-07-01 11:24:36.283421   \n",
       "1        Bordeaux     Jean-Louis GASSET    45  2021-07-01 11:24:36.283421   \n",
       "2           Brest   Michel DER ZAKARIAN    41  2021-07-01 11:24:36.283421   \n",
       "3           Dijon         David LINARES    21  2021-07-01 11:24:36.283421   \n",
       "4            Lens          Franck HAISE    57  2021-07-01 11:24:36.283421   \n",
       "5           Lille    Christophe GALTIER    83  2021-07-01 11:24:36.283421   \n",
       "6         Lorient  Christophe PELISSIER    42  2021-07-01 11:24:36.283421   \n",
       "7            Lyon            Peter BOSZ    76  2021-07-01 11:24:36.283421   \n",
       "8       Marseille        Jorge SAMPAOLI    60  2021-07-01 11:24:36.283421   \n",
       "9            Metz    Frédéric ANTONETTI    47  2021-07-01 11:24:36.283421   \n",
       "10         Monaco            Niko KOVAC    78  2021-07-01 11:24:36.283421   \n",
       "11    Montpellier    Olivier DALL'OGLIO    54  2021-07-01 11:24:36.283421   \n",
       "12         Nantes     Antoine KOMBOUARE    40  2021-07-01 11:24:36.283421   \n",
       "13           Nice          Adrian URSEA    52  2021-07-01 11:24:36.283421   \n",
       "14          Nîmes       Pascal PLANCQUE    35  2021-07-01 11:24:36.283421   \n",
       "15          Paris   Mauricio POCHETTINO    82  2021-07-01 11:24:36.283421   \n",
       "16          Reims          Oscar GARCIA    42  2021-07-01 11:24:36.283421   \n",
       "17         Rennes         Bruno GENESIO    58  2021-07-01 11:24:36.283421   \n",
       "18  Saint-Étienne           Claude PUEL    46  2021-07-01 11:24:36.283421   \n",
       "19     Strasbourg        Julien STEPHAN    42  2021-07-01 11:24:36.283421   \n",
       "\n",
       "                    updated_at  \n",
       "0   2021-07-01 11:24:36.285113  \n",
       "1   2021-07-01 11:24:36.285113  \n",
       "2   2021-07-01 11:24:36.285113  \n",
       "3   2021-07-01 11:24:36.285113  \n",
       "4   2021-07-01 11:24:36.285113  \n",
       "5   2021-07-01 11:24:36.285113  \n",
       "6   2021-07-01 11:24:36.285113  \n",
       "7   2021-07-01 11:24:36.285113  \n",
       "8   2021-07-01 11:24:36.285113  \n",
       "9   2021-07-01 11:24:36.285113  \n",
       "10  2021-07-01 11:24:36.285113  \n",
       "11  2021-07-01 11:24:36.285113  \n",
       "12  2021-07-01 11:24:36.285113  \n",
       "13  2021-07-01 11:24:36.285113  \n",
       "14  2021-07-01 11:24:36.285113  \n",
       "15  2021-07-01 11:24:36.285113  \n",
       "16  2021-07-01 11:24:36.285113  \n",
       "17  2021-07-01 11:24:36.285113  \n",
       "18  2021-07-01 11:24:36.285113  \n",
       "19  2021-07-01 11:24:36.285113  "
      ]
     },
     "execution_count": 17,
     "metadata": {},
     "output_type": "execute_result"
    }
   ],
   "source": [
    "# Lis le contenu de la table\n",
    "teams = read_db('''SELECT * FROM teams''')\n",
    "teams"
   ]
  },
  {
   "cell_type": "code",
   "execution_count": 172,
   "id": "bfb0e4ab",
   "metadata": {},
   "outputs": [],
   "source": [
    "request = \"\"\"\n",
    "SELECT name, goal_type, count(*) as count_but\n",
    "FROM goals \n",
    "JOIN players ON goals.player_id = players.id \n",
    "JOIN teams ON players.team_id = teams.id\n",
    "WHERE goal_type == 'penalty'\n",
    "GROUP BY name\n",
    "ORDER BY count_but desc\n",
    ";\"\"\""
   ]
  },
  {
   "cell_type": "code",
   "execution_count": 173,
   "id": "3cb1a4db",
   "metadata": {
    "scrolled": true
   },
   "outputs": [
    {
     "data": {
      "text/html": [
       "<div>\n",
       "<style scoped>\n",
       "    .dataframe tbody tr th:only-of-type {\n",
       "        vertical-align: middle;\n",
       "    }\n",
       "\n",
       "    .dataframe tbody tr th {\n",
       "        vertical-align: top;\n",
       "    }\n",
       "\n",
       "    .dataframe thead th {\n",
       "        text-align: right;\n",
       "    }\n",
       "</style>\n",
       "<table border=\"1\" class=\"dataframe\">\n",
       "  <thead>\n",
       "    <tr style=\"text-align: right;\">\n",
       "      <th></th>\n",
       "      <th>name</th>\n",
       "      <th>goal_type</th>\n",
       "      <th>count_but</th>\n",
       "    </tr>\n",
       "  </thead>\n",
       "  <tbody>\n",
       "    <tr>\n",
       "      <th>0</th>\n",
       "      <td>Paris-Saint-Germain Football Club</td>\n",
       "      <td>penalty</td>\n",
       "      <td>12</td>\n",
       "    </tr>\n",
       "    <tr>\n",
       "      <th>1</th>\n",
       "      <td>Association sportive de Monaco FC</td>\n",
       "      <td>penalty</td>\n",
       "      <td>12</td>\n",
       "    </tr>\n",
       "    <tr>\n",
       "      <th>2</th>\n",
       "      <td>Olympique Lyonnais</td>\n",
       "      <td>penalty</td>\n",
       "      <td>11</td>\n",
       "    </tr>\n",
       "    <tr>\n",
       "      <th>3</th>\n",
       "      <td>Racing Club de Lens</td>\n",
       "      <td>penalty</td>\n",
       "      <td>10</td>\n",
       "    </tr>\n",
       "    <tr>\n",
       "      <th>4</th>\n",
       "      <td>Football Club Lorient-Bretagne Sud</td>\n",
       "      <td>penalty</td>\n",
       "      <td>9</td>\n",
       "    </tr>\n",
       "    <tr>\n",
       "      <th>5</th>\n",
       "      <td>Football Club de Nantes</td>\n",
       "      <td>penalty</td>\n",
       "      <td>8</td>\n",
       "    </tr>\n",
       "    <tr>\n",
       "      <th>6</th>\n",
       "      <td>Racing Club de Strasbourg Alsace</td>\n",
       "      <td>penalty</td>\n",
       "      <td>7</td>\n",
       "    </tr>\n",
       "    <tr>\n",
       "      <th>7</th>\n",
       "      <td>Olympique Gymnaste Club Nice Côte d'Azur</td>\n",
       "      <td>penalty</td>\n",
       "      <td>7</td>\n",
       "    </tr>\n",
       "    <tr>\n",
       "      <th>8</th>\n",
       "      <td>Nîmes Olympique</td>\n",
       "      <td>penalty</td>\n",
       "      <td>7</td>\n",
       "    </tr>\n",
       "    <tr>\n",
       "      <th>9</th>\n",
       "      <td>Football Club de Metz</td>\n",
       "      <td>penalty</td>\n",
       "      <td>7</td>\n",
       "    </tr>\n",
       "    <tr>\n",
       "      <th>10</th>\n",
       "      <td>Association Sportive de St-Etienne</td>\n",
       "      <td>penalty</td>\n",
       "      <td>6</td>\n",
       "    </tr>\n",
       "    <tr>\n",
       "      <th>11</th>\n",
       "      <td>Stade de Reims</td>\n",
       "      <td>penalty</td>\n",
       "      <td>5</td>\n",
       "    </tr>\n",
       "    <tr>\n",
       "      <th>12</th>\n",
       "      <td>LOSC Lille</td>\n",
       "      <td>penalty</td>\n",
       "      <td>5</td>\n",
       "    </tr>\n",
       "    <tr>\n",
       "      <th>13</th>\n",
       "      <td>Angers Sporting Club de l'Ouest</td>\n",
       "      <td>penalty</td>\n",
       "      <td>5</td>\n",
       "    </tr>\n",
       "    <tr>\n",
       "      <th>14</th>\n",
       "      <td>Olympique de Marseille</td>\n",
       "      <td>penalty</td>\n",
       "      <td>4</td>\n",
       "    </tr>\n",
       "    <tr>\n",
       "      <th>15</th>\n",
       "      <td>Football Club des Girondins de Bordeaux</td>\n",
       "      <td>penalty</td>\n",
       "      <td>4</td>\n",
       "    </tr>\n",
       "    <tr>\n",
       "      <th>16</th>\n",
       "      <td>Stade Rennais Football Club</td>\n",
       "      <td>penalty</td>\n",
       "      <td>3</td>\n",
       "    </tr>\n",
       "    <tr>\n",
       "      <th>17</th>\n",
       "      <td>Stade Brestois 29</td>\n",
       "      <td>penalty</td>\n",
       "      <td>3</td>\n",
       "    </tr>\n",
       "    <tr>\n",
       "      <th>18</th>\n",
       "      <td>Dijon Football Côte-d'Or</td>\n",
       "      <td>penalty</td>\n",
       "      <td>3</td>\n",
       "    </tr>\n",
       "    <tr>\n",
       "      <th>19</th>\n",
       "      <td>Montpellier-Herault Sport Club</td>\n",
       "      <td>penalty</td>\n",
       "      <td>2</td>\n",
       "    </tr>\n",
       "  </tbody>\n",
       "</table>\n",
       "</div>"
      ],
      "text/plain": [
       "                                        name goal_type  count_but\n",
       "0          Paris-Saint-Germain Football Club   penalty         12\n",
       "1          Association sportive de Monaco FC   penalty         12\n",
       "2                         Olympique Lyonnais   penalty         11\n",
       "3                        Racing Club de Lens   penalty         10\n",
       "4         Football Club Lorient-Bretagne Sud   penalty          9\n",
       "5                    Football Club de Nantes   penalty          8\n",
       "6           Racing Club de Strasbourg Alsace   penalty          7\n",
       "7   Olympique Gymnaste Club Nice Côte d'Azur   penalty          7\n",
       "8                            Nîmes Olympique   penalty          7\n",
       "9                      Football Club de Metz   penalty          7\n",
       "10        Association Sportive de St-Etienne   penalty          6\n",
       "11                            Stade de Reims   penalty          5\n",
       "12                                LOSC Lille   penalty          5\n",
       "13           Angers Sporting Club de l'Ouest   penalty          5\n",
       "14                    Olympique de Marseille   penalty          4\n",
       "15   Football Club des Girondins de Bordeaux   penalty          4\n",
       "16               Stade Rennais Football Club   penalty          3\n",
       "17                         Stade Brestois 29   penalty          3\n",
       "18                  Dijon Football Côte-d'Or   penalty          3\n",
       "19            Montpellier-Herault Sport Club   penalty          2"
      ]
     },
     "execution_count": 173,
     "metadata": {},
     "output_type": "execute_result"
    }
   ],
   "source": [
    "test = read_db(request)\n",
    "test"
   ]
  },
  {
   "cell_type": "code",
   "execution_count": 178,
   "id": "192253ff",
   "metadata": {},
   "outputs": [
    {
     "data": {
      "application/vnd.plotly.v1+json": {
       "config": {
        "plotlyServerURL": "https://plot.ly"
       },
       "data": [
        {
         "alignmentgroup": "True",
         "hovertemplate": "count_but=%{x}<br>name=%{y}<extra></extra>",
         "legendgroup": "",
         "marker": {
          "color": "#636efa"
         },
         "name": "",
         "offsetgroup": "",
         "orientation": "h",
         "showlegend": false,
         "textposition": "auto",
         "type": "bar",
         "x": [
          12,
          12,
          11,
          10,
          9,
          8,
          7,
          7,
          7,
          7,
          6,
          5,
          5,
          5,
          4,
          4,
          3,
          3,
          3,
          2
         ],
         "xaxis": "x",
         "y": [
          "Paris-Saint-Germain Football Club",
          "Association sportive de Monaco FC",
          "Olympique Lyonnais",
          "Racing Club de Lens",
          "Football Club Lorient-Bretagne Sud",
          "Football Club de Nantes",
          "Racing Club de Strasbourg Alsace",
          "Olympique Gymnaste Club Nice Côte d'Azur",
          "Nîmes Olympique",
          "Football Club de Metz",
          "Association Sportive de St-Etienne",
          "Stade de Reims",
          "LOSC Lille",
          "Angers Sporting Club de l'Ouest",
          "Olympique de Marseille",
          "Football Club des Girondins de Bordeaux",
          "Stade Rennais Football Club",
          "Stade Brestois 29",
          "Dijon Football Côte-d'Or",
          "Montpellier-Herault Sport Club"
         ],
         "yaxis": "y"
        }
       ],
       "layout": {
        "barmode": "relative",
        "legend": {
         "tracegroupgap": 0
        },
        "template": {
         "data": {
          "bar": [
           {
            "error_x": {
             "color": "#2a3f5f"
            },
            "error_y": {
             "color": "#2a3f5f"
            },
            "marker": {
             "line": {
              "color": "#E5ECF6",
              "width": 0.5
             }
            },
            "type": "bar"
           }
          ],
          "barpolar": [
           {
            "marker": {
             "line": {
              "color": "#E5ECF6",
              "width": 0.5
             }
            },
            "type": "barpolar"
           }
          ],
          "carpet": [
           {
            "aaxis": {
             "endlinecolor": "#2a3f5f",
             "gridcolor": "white",
             "linecolor": "white",
             "minorgridcolor": "white",
             "startlinecolor": "#2a3f5f"
            },
            "baxis": {
             "endlinecolor": "#2a3f5f",
             "gridcolor": "white",
             "linecolor": "white",
             "minorgridcolor": "white",
             "startlinecolor": "#2a3f5f"
            },
            "type": "carpet"
           }
          ],
          "choropleth": [
           {
            "colorbar": {
             "outlinewidth": 0,
             "ticks": ""
            },
            "type": "choropleth"
           }
          ],
          "contour": [
           {
            "colorbar": {
             "outlinewidth": 0,
             "ticks": ""
            },
            "colorscale": [
             [
              0,
              "#0d0887"
             ],
             [
              0.1111111111111111,
              "#46039f"
             ],
             [
              0.2222222222222222,
              "#7201a8"
             ],
             [
              0.3333333333333333,
              "#9c179e"
             ],
             [
              0.4444444444444444,
              "#bd3786"
             ],
             [
              0.5555555555555556,
              "#d8576b"
             ],
             [
              0.6666666666666666,
              "#ed7953"
             ],
             [
              0.7777777777777778,
              "#fb9f3a"
             ],
             [
              0.8888888888888888,
              "#fdca26"
             ],
             [
              1,
              "#f0f921"
             ]
            ],
            "type": "contour"
           }
          ],
          "contourcarpet": [
           {
            "colorbar": {
             "outlinewidth": 0,
             "ticks": ""
            },
            "type": "contourcarpet"
           }
          ],
          "heatmap": [
           {
            "colorbar": {
             "outlinewidth": 0,
             "ticks": ""
            },
            "colorscale": [
             [
              0,
              "#0d0887"
             ],
             [
              0.1111111111111111,
              "#46039f"
             ],
             [
              0.2222222222222222,
              "#7201a8"
             ],
             [
              0.3333333333333333,
              "#9c179e"
             ],
             [
              0.4444444444444444,
              "#bd3786"
             ],
             [
              0.5555555555555556,
              "#d8576b"
             ],
             [
              0.6666666666666666,
              "#ed7953"
             ],
             [
              0.7777777777777778,
              "#fb9f3a"
             ],
             [
              0.8888888888888888,
              "#fdca26"
             ],
             [
              1,
              "#f0f921"
             ]
            ],
            "type": "heatmap"
           }
          ],
          "heatmapgl": [
           {
            "colorbar": {
             "outlinewidth": 0,
             "ticks": ""
            },
            "colorscale": [
             [
              0,
              "#0d0887"
             ],
             [
              0.1111111111111111,
              "#46039f"
             ],
             [
              0.2222222222222222,
              "#7201a8"
             ],
             [
              0.3333333333333333,
              "#9c179e"
             ],
             [
              0.4444444444444444,
              "#bd3786"
             ],
             [
              0.5555555555555556,
              "#d8576b"
             ],
             [
              0.6666666666666666,
              "#ed7953"
             ],
             [
              0.7777777777777778,
              "#fb9f3a"
             ],
             [
              0.8888888888888888,
              "#fdca26"
             ],
             [
              1,
              "#f0f921"
             ]
            ],
            "type": "heatmapgl"
           }
          ],
          "histogram": [
           {
            "marker": {
             "colorbar": {
              "outlinewidth": 0,
              "ticks": ""
             }
            },
            "type": "histogram"
           }
          ],
          "histogram2d": [
           {
            "colorbar": {
             "outlinewidth": 0,
             "ticks": ""
            },
            "colorscale": [
             [
              0,
              "#0d0887"
             ],
             [
              0.1111111111111111,
              "#46039f"
             ],
             [
              0.2222222222222222,
              "#7201a8"
             ],
             [
              0.3333333333333333,
              "#9c179e"
             ],
             [
              0.4444444444444444,
              "#bd3786"
             ],
             [
              0.5555555555555556,
              "#d8576b"
             ],
             [
              0.6666666666666666,
              "#ed7953"
             ],
             [
              0.7777777777777778,
              "#fb9f3a"
             ],
             [
              0.8888888888888888,
              "#fdca26"
             ],
             [
              1,
              "#f0f921"
             ]
            ],
            "type": "histogram2d"
           }
          ],
          "histogram2dcontour": [
           {
            "colorbar": {
             "outlinewidth": 0,
             "ticks": ""
            },
            "colorscale": [
             [
              0,
              "#0d0887"
             ],
             [
              0.1111111111111111,
              "#46039f"
             ],
             [
              0.2222222222222222,
              "#7201a8"
             ],
             [
              0.3333333333333333,
              "#9c179e"
             ],
             [
              0.4444444444444444,
              "#bd3786"
             ],
             [
              0.5555555555555556,
              "#d8576b"
             ],
             [
              0.6666666666666666,
              "#ed7953"
             ],
             [
              0.7777777777777778,
              "#fb9f3a"
             ],
             [
              0.8888888888888888,
              "#fdca26"
             ],
             [
              1,
              "#f0f921"
             ]
            ],
            "type": "histogram2dcontour"
           }
          ],
          "mesh3d": [
           {
            "colorbar": {
             "outlinewidth": 0,
             "ticks": ""
            },
            "type": "mesh3d"
           }
          ],
          "parcoords": [
           {
            "line": {
             "colorbar": {
              "outlinewidth": 0,
              "ticks": ""
             }
            },
            "type": "parcoords"
           }
          ],
          "pie": [
           {
            "automargin": true,
            "type": "pie"
           }
          ],
          "scatter": [
           {
            "marker": {
             "colorbar": {
              "outlinewidth": 0,
              "ticks": ""
             }
            },
            "type": "scatter"
           }
          ],
          "scatter3d": [
           {
            "line": {
             "colorbar": {
              "outlinewidth": 0,
              "ticks": ""
             }
            },
            "marker": {
             "colorbar": {
              "outlinewidth": 0,
              "ticks": ""
             }
            },
            "type": "scatter3d"
           }
          ],
          "scattercarpet": [
           {
            "marker": {
             "colorbar": {
              "outlinewidth": 0,
              "ticks": ""
             }
            },
            "type": "scattercarpet"
           }
          ],
          "scattergeo": [
           {
            "marker": {
             "colorbar": {
              "outlinewidth": 0,
              "ticks": ""
             }
            },
            "type": "scattergeo"
           }
          ],
          "scattergl": [
           {
            "marker": {
             "colorbar": {
              "outlinewidth": 0,
              "ticks": ""
             }
            },
            "type": "scattergl"
           }
          ],
          "scattermapbox": [
           {
            "marker": {
             "colorbar": {
              "outlinewidth": 0,
              "ticks": ""
             }
            },
            "type": "scattermapbox"
           }
          ],
          "scatterpolar": [
           {
            "marker": {
             "colorbar": {
              "outlinewidth": 0,
              "ticks": ""
             }
            },
            "type": "scatterpolar"
           }
          ],
          "scatterpolargl": [
           {
            "marker": {
             "colorbar": {
              "outlinewidth": 0,
              "ticks": ""
             }
            },
            "type": "scatterpolargl"
           }
          ],
          "scatterternary": [
           {
            "marker": {
             "colorbar": {
              "outlinewidth": 0,
              "ticks": ""
             }
            },
            "type": "scatterternary"
           }
          ],
          "surface": [
           {
            "colorbar": {
             "outlinewidth": 0,
             "ticks": ""
            },
            "colorscale": [
             [
              0,
              "#0d0887"
             ],
             [
              0.1111111111111111,
              "#46039f"
             ],
             [
              0.2222222222222222,
              "#7201a8"
             ],
             [
              0.3333333333333333,
              "#9c179e"
             ],
             [
              0.4444444444444444,
              "#bd3786"
             ],
             [
              0.5555555555555556,
              "#d8576b"
             ],
             [
              0.6666666666666666,
              "#ed7953"
             ],
             [
              0.7777777777777778,
              "#fb9f3a"
             ],
             [
              0.8888888888888888,
              "#fdca26"
             ],
             [
              1,
              "#f0f921"
             ]
            ],
            "type": "surface"
           }
          ],
          "table": [
           {
            "cells": {
             "fill": {
              "color": "#EBF0F8"
             },
             "line": {
              "color": "white"
             }
            },
            "header": {
             "fill": {
              "color": "#C8D4E3"
             },
             "line": {
              "color": "white"
             }
            },
            "type": "table"
           }
          ]
         },
         "layout": {
          "annotationdefaults": {
           "arrowcolor": "#2a3f5f",
           "arrowhead": 0,
           "arrowwidth": 1
          },
          "autotypenumbers": "strict",
          "coloraxis": {
           "colorbar": {
            "outlinewidth": 0,
            "ticks": ""
           }
          },
          "colorscale": {
           "diverging": [
            [
             0,
             "#8e0152"
            ],
            [
             0.1,
             "#c51b7d"
            ],
            [
             0.2,
             "#de77ae"
            ],
            [
             0.3,
             "#f1b6da"
            ],
            [
             0.4,
             "#fde0ef"
            ],
            [
             0.5,
             "#f7f7f7"
            ],
            [
             0.6,
             "#e6f5d0"
            ],
            [
             0.7,
             "#b8e186"
            ],
            [
             0.8,
             "#7fbc41"
            ],
            [
             0.9,
             "#4d9221"
            ],
            [
             1,
             "#276419"
            ]
           ],
           "sequential": [
            [
             0,
             "#0d0887"
            ],
            [
             0.1111111111111111,
             "#46039f"
            ],
            [
             0.2222222222222222,
             "#7201a8"
            ],
            [
             0.3333333333333333,
             "#9c179e"
            ],
            [
             0.4444444444444444,
             "#bd3786"
            ],
            [
             0.5555555555555556,
             "#d8576b"
            ],
            [
             0.6666666666666666,
             "#ed7953"
            ],
            [
             0.7777777777777778,
             "#fb9f3a"
            ],
            [
             0.8888888888888888,
             "#fdca26"
            ],
            [
             1,
             "#f0f921"
            ]
           ],
           "sequentialminus": [
            [
             0,
             "#0d0887"
            ],
            [
             0.1111111111111111,
             "#46039f"
            ],
            [
             0.2222222222222222,
             "#7201a8"
            ],
            [
             0.3333333333333333,
             "#9c179e"
            ],
            [
             0.4444444444444444,
             "#bd3786"
            ],
            [
             0.5555555555555556,
             "#d8576b"
            ],
            [
             0.6666666666666666,
             "#ed7953"
            ],
            [
             0.7777777777777778,
             "#fb9f3a"
            ],
            [
             0.8888888888888888,
             "#fdca26"
            ],
            [
             1,
             "#f0f921"
            ]
           ]
          },
          "colorway": [
           "#636efa",
           "#EF553B",
           "#00cc96",
           "#ab63fa",
           "#FFA15A",
           "#19d3f3",
           "#FF6692",
           "#B6E880",
           "#FF97FF",
           "#FECB52"
          ],
          "font": {
           "color": "#2a3f5f"
          },
          "geo": {
           "bgcolor": "white",
           "lakecolor": "white",
           "landcolor": "#E5ECF6",
           "showlakes": true,
           "showland": true,
           "subunitcolor": "white"
          },
          "hoverlabel": {
           "align": "left"
          },
          "hovermode": "closest",
          "mapbox": {
           "style": "light"
          },
          "paper_bgcolor": "white",
          "plot_bgcolor": "#E5ECF6",
          "polar": {
           "angularaxis": {
            "gridcolor": "white",
            "linecolor": "white",
            "ticks": ""
           },
           "bgcolor": "#E5ECF6",
           "radialaxis": {
            "gridcolor": "white",
            "linecolor": "white",
            "ticks": ""
           }
          },
          "scene": {
           "xaxis": {
            "backgroundcolor": "#E5ECF6",
            "gridcolor": "white",
            "gridwidth": 2,
            "linecolor": "white",
            "showbackground": true,
            "ticks": "",
            "zerolinecolor": "white"
           },
           "yaxis": {
            "backgroundcolor": "#E5ECF6",
            "gridcolor": "white",
            "gridwidth": 2,
            "linecolor": "white",
            "showbackground": true,
            "ticks": "",
            "zerolinecolor": "white"
           },
           "zaxis": {
            "backgroundcolor": "#E5ECF6",
            "gridcolor": "white",
            "gridwidth": 2,
            "linecolor": "white",
            "showbackground": true,
            "ticks": "",
            "zerolinecolor": "white"
           }
          },
          "shapedefaults": {
           "line": {
            "color": "#2a3f5f"
           }
          },
          "ternary": {
           "aaxis": {
            "gridcolor": "white",
            "linecolor": "white",
            "ticks": ""
           },
           "baxis": {
            "gridcolor": "white",
            "linecolor": "white",
            "ticks": ""
           },
           "bgcolor": "#E5ECF6",
           "caxis": {
            "gridcolor": "white",
            "linecolor": "white",
            "ticks": ""
           }
          },
          "title": {
           "x": 0.05
          },
          "xaxis": {
           "automargin": true,
           "gridcolor": "white",
           "linecolor": "white",
           "ticks": "",
           "title": {
            "standoff": 15
           },
           "zerolinecolor": "white",
           "zerolinewidth": 2
          },
          "yaxis": {
           "automargin": true,
           "gridcolor": "white",
           "linecolor": "white",
           "ticks": "",
           "title": {
            "standoff": 15
           },
           "zerolinecolor": "white",
           "zerolinewidth": 2
          }
         }
        },
        "title": {
         "text": "Nombre du pénalties par équipe"
        },
        "xaxis": {
         "anchor": "y",
         "domain": [
          0,
          1
         ],
         "title": {
          "text": "count_but"
         }
        },
        "yaxis": {
         "anchor": "x",
         "domain": [
          0,
          1
         ],
         "title": {
          "text": "name"
         }
        }
       }
      },
      "text/html": [
       "<div>                            <div id=\"b24a2c52-63d9-4763-bdff-612d0949fd05\" class=\"plotly-graph-div\" style=\"height:525px; width:100%;\"></div>            <script type=\"text/javascript\">                require([\"plotly\"], function(Plotly) {                    window.PLOTLYENV=window.PLOTLYENV || {};                                    if (document.getElementById(\"b24a2c52-63d9-4763-bdff-612d0949fd05\")) {                    Plotly.newPlot(                        \"b24a2c52-63d9-4763-bdff-612d0949fd05\",                        [{\"alignmentgroup\": \"True\", \"hovertemplate\": \"count_but=%{x}<br>name=%{y}<extra></extra>\", \"legendgroup\": \"\", \"marker\": {\"color\": \"#636efa\"}, \"name\": \"\", \"offsetgroup\": \"\", \"orientation\": \"h\", \"showlegend\": false, \"textposition\": \"auto\", \"type\": \"bar\", \"x\": [12, 12, 11, 10, 9, 8, 7, 7, 7, 7, 6, 5, 5, 5, 4, 4, 3, 3, 3, 2], \"xaxis\": \"x\", \"y\": [\"Paris-Saint-Germain Football Club\", \"Association sportive de Monaco FC\", \"Olympique Lyonnais\", \"Racing Club de Lens\", \"Football Club Lorient-Bretagne Sud\", \"Football Club de Nantes\", \"Racing Club de Strasbourg Alsace\", \"Olympique Gymnaste Club Nice C\\u00f4te d'Azur\", \"N\\u00eemes Olympique\", \"Football Club de Metz\", \"Association Sportive de St-Etienne\", \"Stade de Reims\", \"LOSC Lille\", \"Angers Sporting Club de l'Ouest\", \"Olympique de Marseille\", \"Football Club des Girondins de Bordeaux\", \"Stade Rennais Football Club\", \"Stade Brestois 29\", \"Dijon Football C\\u00f4te-d'Or\", \"Montpellier-Herault Sport Club\"], \"yaxis\": \"y\"}],                        {\"barmode\": \"relative\", \"legend\": {\"tracegroupgap\": 0}, \"template\": {\"data\": {\"bar\": [{\"error_x\": {\"color\": \"#2a3f5f\"}, \"error_y\": {\"color\": \"#2a3f5f\"}, \"marker\": {\"line\": {\"color\": \"#E5ECF6\", \"width\": 0.5}}, \"type\": \"bar\"}], \"barpolar\": [{\"marker\": {\"line\": {\"color\": \"#E5ECF6\", \"width\": 0.5}}, \"type\": \"barpolar\"}], \"carpet\": [{\"aaxis\": {\"endlinecolor\": \"#2a3f5f\", \"gridcolor\": \"white\", \"linecolor\": \"white\", \"minorgridcolor\": \"white\", \"startlinecolor\": \"#2a3f5f\"}, \"baxis\": {\"endlinecolor\": \"#2a3f5f\", \"gridcolor\": \"white\", \"linecolor\": \"white\", \"minorgridcolor\": \"white\", \"startlinecolor\": \"#2a3f5f\"}, \"type\": \"carpet\"}], \"choropleth\": [{\"colorbar\": {\"outlinewidth\": 0, \"ticks\": \"\"}, \"type\": \"choropleth\"}], \"contour\": [{\"colorbar\": {\"outlinewidth\": 0, \"ticks\": \"\"}, \"colorscale\": [[0.0, \"#0d0887\"], [0.1111111111111111, \"#46039f\"], [0.2222222222222222, \"#7201a8\"], [0.3333333333333333, \"#9c179e\"], [0.4444444444444444, \"#bd3786\"], [0.5555555555555556, \"#d8576b\"], [0.6666666666666666, \"#ed7953\"], [0.7777777777777778, \"#fb9f3a\"], [0.8888888888888888, \"#fdca26\"], [1.0, \"#f0f921\"]], \"type\": \"contour\"}], \"contourcarpet\": [{\"colorbar\": {\"outlinewidth\": 0, \"ticks\": \"\"}, \"type\": \"contourcarpet\"}], \"heatmap\": [{\"colorbar\": {\"outlinewidth\": 0, \"ticks\": \"\"}, \"colorscale\": [[0.0, \"#0d0887\"], [0.1111111111111111, \"#46039f\"], [0.2222222222222222, \"#7201a8\"], [0.3333333333333333, \"#9c179e\"], [0.4444444444444444, \"#bd3786\"], [0.5555555555555556, \"#d8576b\"], [0.6666666666666666, \"#ed7953\"], [0.7777777777777778, \"#fb9f3a\"], [0.8888888888888888, \"#fdca26\"], [1.0, \"#f0f921\"]], \"type\": \"heatmap\"}], \"heatmapgl\": [{\"colorbar\": {\"outlinewidth\": 0, \"ticks\": \"\"}, \"colorscale\": [[0.0, \"#0d0887\"], [0.1111111111111111, \"#46039f\"], [0.2222222222222222, \"#7201a8\"], [0.3333333333333333, \"#9c179e\"], [0.4444444444444444, \"#bd3786\"], [0.5555555555555556, \"#d8576b\"], [0.6666666666666666, \"#ed7953\"], [0.7777777777777778, \"#fb9f3a\"], [0.8888888888888888, \"#fdca26\"], [1.0, \"#f0f921\"]], \"type\": \"heatmapgl\"}], \"histogram\": [{\"marker\": {\"colorbar\": {\"outlinewidth\": 0, \"ticks\": \"\"}}, \"type\": \"histogram\"}], \"histogram2d\": [{\"colorbar\": {\"outlinewidth\": 0, \"ticks\": \"\"}, \"colorscale\": [[0.0, \"#0d0887\"], [0.1111111111111111, \"#46039f\"], [0.2222222222222222, \"#7201a8\"], [0.3333333333333333, \"#9c179e\"], [0.4444444444444444, \"#bd3786\"], [0.5555555555555556, \"#d8576b\"], [0.6666666666666666, \"#ed7953\"], [0.7777777777777778, \"#fb9f3a\"], [0.8888888888888888, \"#fdca26\"], [1.0, \"#f0f921\"]], \"type\": \"histogram2d\"}], \"histogram2dcontour\": [{\"colorbar\": {\"outlinewidth\": 0, \"ticks\": \"\"}, \"colorscale\": [[0.0, \"#0d0887\"], [0.1111111111111111, \"#46039f\"], [0.2222222222222222, \"#7201a8\"], [0.3333333333333333, \"#9c179e\"], [0.4444444444444444, \"#bd3786\"], [0.5555555555555556, \"#d8576b\"], [0.6666666666666666, \"#ed7953\"], [0.7777777777777778, \"#fb9f3a\"], [0.8888888888888888, \"#fdca26\"], [1.0, \"#f0f921\"]], \"type\": \"histogram2dcontour\"}], \"mesh3d\": [{\"colorbar\": {\"outlinewidth\": 0, \"ticks\": \"\"}, \"type\": \"mesh3d\"}], \"parcoords\": [{\"line\": {\"colorbar\": {\"outlinewidth\": 0, \"ticks\": \"\"}}, \"type\": \"parcoords\"}], \"pie\": [{\"automargin\": true, \"type\": \"pie\"}], \"scatter\": [{\"marker\": {\"colorbar\": {\"outlinewidth\": 0, \"ticks\": \"\"}}, \"type\": \"scatter\"}], \"scatter3d\": [{\"line\": {\"colorbar\": {\"outlinewidth\": 0, \"ticks\": \"\"}}, \"marker\": {\"colorbar\": {\"outlinewidth\": 0, \"ticks\": \"\"}}, \"type\": \"scatter3d\"}], \"scattercarpet\": [{\"marker\": {\"colorbar\": {\"outlinewidth\": 0, \"ticks\": \"\"}}, \"type\": \"scattercarpet\"}], \"scattergeo\": [{\"marker\": {\"colorbar\": {\"outlinewidth\": 0, \"ticks\": \"\"}}, \"type\": \"scattergeo\"}], \"scattergl\": [{\"marker\": {\"colorbar\": {\"outlinewidth\": 0, \"ticks\": \"\"}}, \"type\": \"scattergl\"}], \"scattermapbox\": [{\"marker\": {\"colorbar\": {\"outlinewidth\": 0, \"ticks\": \"\"}}, \"type\": \"scattermapbox\"}], \"scatterpolar\": [{\"marker\": {\"colorbar\": {\"outlinewidth\": 0, \"ticks\": \"\"}}, \"type\": \"scatterpolar\"}], \"scatterpolargl\": [{\"marker\": {\"colorbar\": {\"outlinewidth\": 0, \"ticks\": \"\"}}, \"type\": \"scatterpolargl\"}], \"scatterternary\": [{\"marker\": {\"colorbar\": {\"outlinewidth\": 0, \"ticks\": \"\"}}, \"type\": \"scatterternary\"}], \"surface\": [{\"colorbar\": {\"outlinewidth\": 0, \"ticks\": \"\"}, \"colorscale\": [[0.0, \"#0d0887\"], [0.1111111111111111, \"#46039f\"], [0.2222222222222222, \"#7201a8\"], [0.3333333333333333, \"#9c179e\"], [0.4444444444444444, \"#bd3786\"], [0.5555555555555556, \"#d8576b\"], [0.6666666666666666, \"#ed7953\"], [0.7777777777777778, \"#fb9f3a\"], [0.8888888888888888, \"#fdca26\"], [1.0, \"#f0f921\"]], \"type\": \"surface\"}], \"table\": [{\"cells\": {\"fill\": {\"color\": \"#EBF0F8\"}, \"line\": {\"color\": \"white\"}}, \"header\": {\"fill\": {\"color\": \"#C8D4E3\"}, \"line\": {\"color\": \"white\"}}, \"type\": \"table\"}]}, \"layout\": {\"annotationdefaults\": {\"arrowcolor\": \"#2a3f5f\", \"arrowhead\": 0, \"arrowwidth\": 1}, \"autotypenumbers\": \"strict\", \"coloraxis\": {\"colorbar\": {\"outlinewidth\": 0, \"ticks\": \"\"}}, \"colorscale\": {\"diverging\": [[0, \"#8e0152\"], [0.1, \"#c51b7d\"], [0.2, \"#de77ae\"], [0.3, \"#f1b6da\"], [0.4, \"#fde0ef\"], [0.5, \"#f7f7f7\"], [0.6, \"#e6f5d0\"], [0.7, \"#b8e186\"], [0.8, \"#7fbc41\"], [0.9, \"#4d9221\"], [1, \"#276419\"]], \"sequential\": [[0.0, \"#0d0887\"], [0.1111111111111111, \"#46039f\"], [0.2222222222222222, \"#7201a8\"], [0.3333333333333333, \"#9c179e\"], [0.4444444444444444, \"#bd3786\"], [0.5555555555555556, \"#d8576b\"], [0.6666666666666666, \"#ed7953\"], [0.7777777777777778, \"#fb9f3a\"], [0.8888888888888888, \"#fdca26\"], [1.0, \"#f0f921\"]], \"sequentialminus\": [[0.0, \"#0d0887\"], [0.1111111111111111, \"#46039f\"], [0.2222222222222222, \"#7201a8\"], [0.3333333333333333, \"#9c179e\"], [0.4444444444444444, \"#bd3786\"], [0.5555555555555556, \"#d8576b\"], [0.6666666666666666, \"#ed7953\"], [0.7777777777777778, \"#fb9f3a\"], [0.8888888888888888, \"#fdca26\"], [1.0, \"#f0f921\"]]}, \"colorway\": [\"#636efa\", \"#EF553B\", \"#00cc96\", \"#ab63fa\", \"#FFA15A\", \"#19d3f3\", \"#FF6692\", \"#B6E880\", \"#FF97FF\", \"#FECB52\"], \"font\": {\"color\": \"#2a3f5f\"}, \"geo\": {\"bgcolor\": \"white\", \"lakecolor\": \"white\", \"landcolor\": \"#E5ECF6\", \"showlakes\": true, \"showland\": true, \"subunitcolor\": \"white\"}, \"hoverlabel\": {\"align\": \"left\"}, \"hovermode\": \"closest\", \"mapbox\": {\"style\": \"light\"}, \"paper_bgcolor\": \"white\", \"plot_bgcolor\": \"#E5ECF6\", \"polar\": {\"angularaxis\": {\"gridcolor\": \"white\", \"linecolor\": \"white\", \"ticks\": \"\"}, \"bgcolor\": \"#E5ECF6\", \"radialaxis\": {\"gridcolor\": \"white\", \"linecolor\": \"white\", \"ticks\": \"\"}}, \"scene\": {\"xaxis\": {\"backgroundcolor\": \"#E5ECF6\", \"gridcolor\": \"white\", \"gridwidth\": 2, \"linecolor\": \"white\", \"showbackground\": true, \"ticks\": \"\", \"zerolinecolor\": \"white\"}, \"yaxis\": {\"backgroundcolor\": \"#E5ECF6\", \"gridcolor\": \"white\", \"gridwidth\": 2, \"linecolor\": \"white\", \"showbackground\": true, \"ticks\": \"\", \"zerolinecolor\": \"white\"}, \"zaxis\": {\"backgroundcolor\": \"#E5ECF6\", \"gridcolor\": \"white\", \"gridwidth\": 2, \"linecolor\": \"white\", \"showbackground\": true, \"ticks\": \"\", \"zerolinecolor\": \"white\"}}, \"shapedefaults\": {\"line\": {\"color\": \"#2a3f5f\"}}, \"ternary\": {\"aaxis\": {\"gridcolor\": \"white\", \"linecolor\": \"white\", \"ticks\": \"\"}, \"baxis\": {\"gridcolor\": \"white\", \"linecolor\": \"white\", \"ticks\": \"\"}, \"bgcolor\": \"#E5ECF6\", \"caxis\": {\"gridcolor\": \"white\", \"linecolor\": \"white\", \"ticks\": \"\"}}, \"title\": {\"x\": 0.05}, \"xaxis\": {\"automargin\": true, \"gridcolor\": \"white\", \"linecolor\": \"white\", \"ticks\": \"\", \"title\": {\"standoff\": 15}, \"zerolinecolor\": \"white\", \"zerolinewidth\": 2}, \"yaxis\": {\"automargin\": true, \"gridcolor\": \"white\", \"linecolor\": \"white\", \"ticks\": \"\", \"title\": {\"standoff\": 15}, \"zerolinecolor\": \"white\", \"zerolinewidth\": 2}}}, \"title\": {\"text\": \"Nombre du p\\u00e9nalties par \\u00e9quipe\"}, \"xaxis\": {\"anchor\": \"y\", \"domain\": [0.0, 1.0], \"title\": {\"text\": \"count_but\"}}, \"yaxis\": {\"anchor\": \"x\", \"domain\": [0.0, 1.0], \"title\": {\"text\": \"name\"}}},                        {\"responsive\": true}                    ).then(function(){\n",
       "                            \n",
       "var gd = document.getElementById('b24a2c52-63d9-4763-bdff-612d0949fd05');\n",
       "var x = new MutationObserver(function (mutations, observer) {{\n",
       "        var display = window.getComputedStyle(gd).display;\n",
       "        if (!display || display === 'none') {{\n",
       "            console.log([gd, 'removed!']);\n",
       "            Plotly.purge(gd);\n",
       "            observer.disconnect();\n",
       "        }}\n",
       "}});\n",
       "\n",
       "// Listen for the removal of the full notebook cells\n",
       "var notebookContainer = gd.closest('#notebook-container');\n",
       "if (notebookContainer) {{\n",
       "    x.observe(notebookContainer, {childList: true});\n",
       "}}\n",
       "\n",
       "// Listen for the clearing of the current output cell\n",
       "var outputEl = gd.closest('.output');\n",
       "if (outputEl) {{\n",
       "    x.observe(outputEl, {childList: true});\n",
       "}}\n",
       "\n",
       "                        })                };                });            </script>        </div>"
      ]
     },
     "metadata": {},
     "output_type": "display_data"
    }
   ],
   "source": [
    "import plotly.express as px\n",
    "\n",
    "fig = px.bar(test, x='count_but', y='name', title='Nombre du pénalties par équipe')\n",
    "fig.show()"
   ]
  },
  {
   "cell_type": "code",
   "execution_count": 71,
   "id": "d3f5c338",
   "metadata": {
    "collapsed": true
   },
   "outputs": [
    {
     "data": {
      "text/html": [
       "<div>\n",
       "<style scoped>\n",
       "    .dataframe tbody tr th:only-of-type {\n",
       "        vertical-align: middle;\n",
       "    }\n",
       "\n",
       "    .dataframe tbody tr th {\n",
       "        vertical-align: top;\n",
       "    }\n",
       "\n",
       "    .dataframe thead th {\n",
       "        text-align: right;\n",
       "    }\n",
       "</style>\n",
       "<table border=\"1\" class=\"dataframe\">\n",
       "  <thead>\n",
       "    <tr style=\"text-align: right;\">\n",
       "      <th></th>\n",
       "      <th>name</th>\n",
       "      <th>goal_type</th>\n",
       "      <th>count</th>\n",
       "    </tr>\n",
       "  </thead>\n",
       "  <tbody>\n",
       "    <tr>\n",
       "      <th>0</th>\n",
       "      <td>Association Sportive de St-Etienne</td>\n",
       "      <td>normal</td>\n",
       "      <td>5</td>\n",
       "    </tr>\n",
       "    <tr>\n",
       "      <th>1</th>\n",
       "      <td>Dijon Football Côte-d'Or</td>\n",
       "      <td>normal</td>\n",
       "      <td>4</td>\n",
       "    </tr>\n",
       "    <tr>\n",
       "      <th>2</th>\n",
       "      <td>LOSC Lille</td>\n",
       "      <td>normal</td>\n",
       "      <td>4</td>\n",
       "    </tr>\n",
       "    <tr>\n",
       "      <th>3</th>\n",
       "      <td>Racing Club de Lens</td>\n",
       "      <td>normal</td>\n",
       "      <td>3</td>\n",
       "    </tr>\n",
       "    <tr>\n",
       "      <th>4</th>\n",
       "      <td>Association sportive de Monaco FC</td>\n",
       "      <td>normal</td>\n",
       "      <td>2</td>\n",
       "    </tr>\n",
       "    <tr>\n",
       "      <th>5</th>\n",
       "      <td>Association sportive de Monaco FC</td>\n",
       "      <td>penalty</td>\n",
       "      <td>2</td>\n",
       "    </tr>\n",
       "    <tr>\n",
       "      <th>6</th>\n",
       "      <td>Football Club Lorient-Bretagne Sud</td>\n",
       "      <td>normal</td>\n",
       "      <td>2</td>\n",
       "    </tr>\n",
       "    <tr>\n",
       "      <th>7</th>\n",
       "      <td>Football Club de Metz</td>\n",
       "      <td>normal</td>\n",
       "      <td>2</td>\n",
       "    </tr>\n",
       "    <tr>\n",
       "      <th>8</th>\n",
       "      <td>Montpellier-Herault Sport Club</td>\n",
       "      <td>normal</td>\n",
       "      <td>2</td>\n",
       "    </tr>\n",
       "    <tr>\n",
       "      <th>9</th>\n",
       "      <td>Nîmes Olympique</td>\n",
       "      <td>normal</td>\n",
       "      <td>2</td>\n",
       "    </tr>\n",
       "    <tr>\n",
       "      <th>10</th>\n",
       "      <td>Olympique Lyonnais</td>\n",
       "      <td>penalty</td>\n",
       "      <td>2</td>\n",
       "    </tr>\n",
       "    <tr>\n",
       "      <th>11</th>\n",
       "      <td>Paris-Saint-Germain Football Club</td>\n",
       "      <td>normal</td>\n",
       "      <td>2</td>\n",
       "    </tr>\n",
       "    <tr>\n",
       "      <th>12</th>\n",
       "      <td>Stade Brestois 29</td>\n",
       "      <td>normal</td>\n",
       "      <td>2</td>\n",
       "    </tr>\n",
       "    <tr>\n",
       "      <th>13</th>\n",
       "      <td>Stade de Reims</td>\n",
       "      <td>normal</td>\n",
       "      <td>2</td>\n",
       "    </tr>\n",
       "    <tr>\n",
       "      <th>14</th>\n",
       "      <td>Association sportive de Monaco FC</td>\n",
       "      <td>own_goal</td>\n",
       "      <td>1</td>\n",
       "    </tr>\n",
       "    <tr>\n",
       "      <th>15</th>\n",
       "      <td>Football Club Lorient-Bretagne Sud</td>\n",
       "      <td>penalty</td>\n",
       "      <td>1</td>\n",
       "    </tr>\n",
       "    <tr>\n",
       "      <th>16</th>\n",
       "      <td>Football Club de Nantes</td>\n",
       "      <td>normal</td>\n",
       "      <td>1</td>\n",
       "    </tr>\n",
       "    <tr>\n",
       "      <th>17</th>\n",
       "      <td>Football Club de Nantes</td>\n",
       "      <td>penalty</td>\n",
       "      <td>1</td>\n",
       "    </tr>\n",
       "    <tr>\n",
       "      <th>18</th>\n",
       "      <td>Football Club des Girondins de Bordeaux</td>\n",
       "      <td>normal</td>\n",
       "      <td>1</td>\n",
       "    </tr>\n",
       "    <tr>\n",
       "      <th>19</th>\n",
       "      <td>Montpellier-Herault Sport Club</td>\n",
       "      <td>own_goal</td>\n",
       "      <td>1</td>\n",
       "    </tr>\n",
       "    <tr>\n",
       "      <th>20</th>\n",
       "      <td>Nîmes Olympique</td>\n",
       "      <td>penalty</td>\n",
       "      <td>1</td>\n",
       "    </tr>\n",
       "    <tr>\n",
       "      <th>21</th>\n",
       "      <td>Olympique Gymnaste Club Nice Côte d'Azur</td>\n",
       "      <td>normal</td>\n",
       "      <td>1</td>\n",
       "    </tr>\n",
       "    <tr>\n",
       "      <th>22</th>\n",
       "      <td>Olympique Lyonnais</td>\n",
       "      <td>normal</td>\n",
       "      <td>1</td>\n",
       "    </tr>\n",
       "    <tr>\n",
       "      <th>23</th>\n",
       "      <td>Olympique de Marseille</td>\n",
       "      <td>normal</td>\n",
       "      <td>1</td>\n",
       "    </tr>\n",
       "    <tr>\n",
       "      <th>24</th>\n",
       "      <td>Racing Club de Lens</td>\n",
       "      <td>penalty</td>\n",
       "      <td>1</td>\n",
       "    </tr>\n",
       "    <tr>\n",
       "      <th>25</th>\n",
       "      <td>Racing Club de Strasbourg Alsace</td>\n",
       "      <td>normal</td>\n",
       "      <td>1</td>\n",
       "    </tr>\n",
       "    <tr>\n",
       "      <th>26</th>\n",
       "      <td>Stade Rennais Football Club</td>\n",
       "      <td>normal</td>\n",
       "      <td>1</td>\n",
       "    </tr>\n",
       "  </tbody>\n",
       "</table>\n",
       "</div>"
      ],
      "text/plain": [
       "                                        name goal_type  count\n",
       "0         Association Sportive de St-Etienne    normal      5\n",
       "1                   Dijon Football Côte-d'Or    normal      4\n",
       "2                                 LOSC Lille    normal      4\n",
       "3                        Racing Club de Lens    normal      3\n",
       "4          Association sportive de Monaco FC    normal      2\n",
       "5          Association sportive de Monaco FC   penalty      2\n",
       "6         Football Club Lorient-Bretagne Sud    normal      2\n",
       "7                      Football Club de Metz    normal      2\n",
       "8             Montpellier-Herault Sport Club    normal      2\n",
       "9                            Nîmes Olympique    normal      2\n",
       "10                        Olympique Lyonnais   penalty      2\n",
       "11         Paris-Saint-Germain Football Club    normal      2\n",
       "12                         Stade Brestois 29    normal      2\n",
       "13                            Stade de Reims    normal      2\n",
       "14         Association sportive de Monaco FC  own_goal      1\n",
       "15        Football Club Lorient-Bretagne Sud   penalty      1\n",
       "16                   Football Club de Nantes    normal      1\n",
       "17                   Football Club de Nantes   penalty      1\n",
       "18   Football Club des Girondins de Bordeaux    normal      1\n",
       "19            Montpellier-Herault Sport Club  own_goal      1\n",
       "20                           Nîmes Olympique   penalty      1\n",
       "21  Olympique Gymnaste Club Nice Côte d'Azur    normal      1\n",
       "22                        Olympique Lyonnais    normal      1\n",
       "23                    Olympique de Marseille    normal      1\n",
       "24                       Racing Club de Lens   penalty      1\n",
       "25          Racing Club de Strasbourg Alsace    normal      1\n",
       "26               Stade Rennais Football Club    normal      1"
      ]
     },
     "execution_count": 71,
     "metadata": {},
     "output_type": "execute_result"
    }
   ],
   "source": [
    "# Lis le contenu de la table\n",
    "goals = read_db(\"\"\"SELECT NAME, goal_type, count(coach_name) as count\n",
    "FROM teams\n",
    "INNER JOIN goals on teams.id = goals.match_id\n",
    "GROUP BY\n",
    "name, goal_type\n",
    "ORDER by count desc\n",
    "\"\"\")\n",
    "goals"
   ]
  },
  {
   "cell_type": "code",
   "execution_count": 16,
   "id": "3068006c",
   "metadata": {
    "scrolled": true
   },
   "outputs": [
    {
     "data": {
      "text/html": [
       "<div>\n",
       "<style scoped>\n",
       "    .dataframe tbody tr th:only-of-type {\n",
       "        vertical-align: middle;\n",
       "    }\n",
       "\n",
       "    .dataframe tbody tr th {\n",
       "        vertical-align: top;\n",
       "    }\n",
       "\n",
       "    .dataframe thead th {\n",
       "        text-align: right;\n",
       "    }\n",
       "</style>\n",
       "<table border=\"1\" class=\"dataframe\">\n",
       "  <thead>\n",
       "    <tr style=\"text-align: right;\">\n",
       "      <th></th>\n",
       "      <th>id</th>\n",
       "      <th>match_id</th>\n",
       "      <th>player_id</th>\n",
       "      <th>goal_type</th>\n",
       "      <th>created_at</th>\n",
       "      <th>updated_at</th>\n",
       "    </tr>\n",
       "  </thead>\n",
       "  <tbody>\n",
       "    <tr>\n",
       "      <th>0</th>\n",
       "      <td>1</td>\n",
       "      <td>2</td>\n",
       "      <td>14</td>\n",
       "      <td>normal</td>\n",
       "      <td>2021-07-02 20:04:36.099259</td>\n",
       "      <td>2021-07-02 20:04:36.101412</td>\n",
       "    </tr>\n",
       "    <tr>\n",
       "      <th>1</th>\n",
       "      <td>2</td>\n",
       "      <td>3</td>\n",
       "      <td>176</td>\n",
       "      <td>normal</td>\n",
       "      <td>2021-07-02 20:04:36.099259</td>\n",
       "      <td>2021-07-02 20:04:36.101412</td>\n",
       "    </tr>\n",
       "    <tr>\n",
       "      <th>2</th>\n",
       "      <td>3</td>\n",
       "      <td>3</td>\n",
       "      <td>549</td>\n",
       "      <td>normal</td>\n",
       "      <td>2021-07-02 20:04:36.099259</td>\n",
       "      <td>2021-07-02 20:04:36.101412</td>\n",
       "    </tr>\n",
       "    <tr>\n",
       "      <th>3</th>\n",
       "      <td>4</td>\n",
       "      <td>4</td>\n",
       "      <td>322</td>\n",
       "      <td>normal</td>\n",
       "      <td>2021-07-02 20:04:36.099259</td>\n",
       "      <td>2021-07-02 20:04:36.101412</td>\n",
       "    </tr>\n",
       "    <tr>\n",
       "      <th>4</th>\n",
       "      <td>5</td>\n",
       "      <td>4</td>\n",
       "      <td>320</td>\n",
       "      <td>normal</td>\n",
       "      <td>2021-07-02 20:04:36.099259</td>\n",
       "      <td>2021-07-02 20:04:36.101412</td>\n",
       "    </tr>\n",
       "    <tr>\n",
       "      <th>...</th>\n",
       "      <td>...</td>\n",
       "      <td>...</td>\n",
       "      <td>...</td>\n",
       "      <td>...</td>\n",
       "      <td>...</td>\n",
       "      <td>...</td>\n",
       "    </tr>\n",
       "    <tr>\n",
       "      <th>1044</th>\n",
       "      <td>1045</td>\n",
       "      <td>379</td>\n",
       "      <td>544</td>\n",
       "      <td>normal</td>\n",
       "      <td>2021-07-02 20:04:36.099259</td>\n",
       "      <td>2021-07-02 20:04:36.101412</td>\n",
       "    </tr>\n",
       "    <tr>\n",
       "      <th>1045</th>\n",
       "      <td>1046</td>\n",
       "      <td>379</td>\n",
       "      <td>53</td>\n",
       "      <td>normal</td>\n",
       "      <td>2021-07-02 20:04:36.099259</td>\n",
       "      <td>2021-07-02 20:04:36.101412</td>\n",
       "    </tr>\n",
       "    <tr>\n",
       "      <th>1046</th>\n",
       "      <td>1047</td>\n",
       "      <td>379</td>\n",
       "      <td>48</td>\n",
       "      <td>normal</td>\n",
       "      <td>2021-07-02 20:04:36.099259</td>\n",
       "      <td>2021-07-02 20:04:36.101412</td>\n",
       "    </tr>\n",
       "    <tr>\n",
       "      <th>1047</th>\n",
       "      <td>1048</td>\n",
       "      <td>380</td>\n",
       "      <td>642</td>\n",
       "      <td>normal</td>\n",
       "      <td>2021-07-02 20:04:36.099259</td>\n",
       "      <td>2021-07-02 20:04:36.101412</td>\n",
       "    </tr>\n",
       "    <tr>\n",
       "      <th>1048</th>\n",
       "      <td>1049</td>\n",
       "      <td>380</td>\n",
       "      <td>211</td>\n",
       "      <td>normal</td>\n",
       "      <td>2021-07-02 20:04:36.099259</td>\n",
       "      <td>2021-07-02 20:04:36.101412</td>\n",
       "    </tr>\n",
       "  </tbody>\n",
       "</table>\n",
       "<p>1049 rows × 6 columns</p>\n",
       "</div>"
      ],
      "text/plain": [
       "        id  match_id player_id goal_type                  created_at  \\\n",
       "0        1         2        14    normal  2021-07-02 20:04:36.099259   \n",
       "1        2         3       176    normal  2021-07-02 20:04:36.099259   \n",
       "2        3         3       549    normal  2021-07-02 20:04:36.099259   \n",
       "3        4         4       322    normal  2021-07-02 20:04:36.099259   \n",
       "4        5         4       320    normal  2021-07-02 20:04:36.099259   \n",
       "...    ...       ...       ...       ...                         ...   \n",
       "1044  1045       379       544    normal  2021-07-02 20:04:36.099259   \n",
       "1045  1046       379        53    normal  2021-07-02 20:04:36.099259   \n",
       "1046  1047       379        48    normal  2021-07-02 20:04:36.099259   \n",
       "1047  1048       380       642    normal  2021-07-02 20:04:36.099259   \n",
       "1048  1049       380       211    normal  2021-07-02 20:04:36.099259   \n",
       "\n",
       "                      updated_at  \n",
       "0     2021-07-02 20:04:36.101412  \n",
       "1     2021-07-02 20:04:36.101412  \n",
       "2     2021-07-02 20:04:36.101412  \n",
       "3     2021-07-02 20:04:36.101412  \n",
       "4     2021-07-02 20:04:36.101412  \n",
       "...                          ...  \n",
       "1044  2021-07-02 20:04:36.101412  \n",
       "1045  2021-07-02 20:04:36.101412  \n",
       "1046  2021-07-02 20:04:36.101412  \n",
       "1047  2021-07-02 20:04:36.101412  \n",
       "1048  2021-07-02 20:04:36.101412  \n",
       "\n",
       "[1049 rows x 6 columns]"
      ]
     },
     "execution_count": 16,
     "metadata": {},
     "output_type": "execute_result"
    }
   ],
   "source": [
    "# Lis le contenu de la table\n",
    "goals = read_db('''SELECT * FROM goals''')\n",
    "goals"
   ]
  },
  {
   "cell_type": "code",
   "execution_count": null,
   "id": "a1bb2a04",
   "metadata": {},
   "outputs": [],
   "source": []
  }
 ],
 "metadata": {
  "kernelspec": {
   "display_name": "Python 3",
   "language": "python",
   "name": "python3"
  },
  "language_info": {
   "codemirror_mode": {
    "name": "ipython",
    "version": 3
   },
   "file_extension": ".py",
   "mimetype": "text/x-python",
   "name": "python",
   "nbconvert_exporter": "python",
   "pygments_lexer": "ipython3",
   "version": "3.8.10"
  },
  "toc": {
   "base_numbering": 1,
   "nav_menu": {},
   "number_sections": true,
   "sideBar": true,
   "skip_h1_title": false,
   "title_cell": "Table of Contents",
   "title_sidebar": "Contents",
   "toc_cell": false,
   "toc_position": {},
   "toc_section_display": true,
   "toc_window_display": false
  }
 },
 "nbformat": 4,
 "nbformat_minor": 5
}
