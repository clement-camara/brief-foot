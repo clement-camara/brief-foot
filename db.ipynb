{
 "metadata": {
  "language_info": {
   "codemirror_mode": {
    "name": "ipython",
    "version": 3
   },
   "file_extension": ".py",
   "mimetype": "text/x-python",
   "name": "python",
   "nbconvert_exporter": "python",
   "pygments_lexer": "ipython3",
   "version": "3.9.4"
  },
  "orig_nbformat": 4,
  "kernelspec": {
   "name": "python3",
   "display_name": "Python 3.9.4 64-bit ('ecole_ia': conda)"
  },
  "interpreter": {
   "hash": "0d35e8fd8bb9dbc7b2c42a88126e53b3d6a72b7c47959c72e8446e8c3707341b"
  }
 },
 "nbformat": 4,
 "nbformat_minor": 2,
 "cells": [
  {
   "cell_type": "code",
   "execution_count": 1,
   "metadata": {},
   "outputs": [],
   "source": [
    "import sqlite3\n",
    "import pandas as pd"
   ]
  },
  {
   "cell_type": "code",
   "execution_count": 2,
   "metadata": {},
   "outputs": [],
   "source": [
    "# Connection à la db, crée le fichier s'il n'existe pas déjà\n",
    "conn = sqlite3.connect('db_foot.sqlite3') \n",
    "c = conn.cursor()"
   ]
  },
  {
   "cell_type": "code",
   "execution_count": 4,
   "metadata": {},
   "outputs": [],
   "source": [
    "# Requètes de creation des différentes tables\n",
    "championships = '''CREATE TABLE IF NOT EXISTS championships (\n",
    "    id INTEGER PRIMARY KEY AUTOINCREMENT,\n",
    "    name VARCHAR,\n",
    "    country VARCHAR,\n",
    "    start_year INTEGER,\n",
    "    end_year INTEGER,\n",
    "    created_at TIMESTAMP,\n",
    "    updated_at TIMESTAMP)'''\n",
    "teams = '''CREATE TABLE IF NOT EXISTS teams (\n",
    "    id INTEGER PRIMARY KEY AUTOINCREMENT,\n",
    "    championship_id INTEGER,\n",
    "    name VARCHARD,\n",
    "    city VARCHAR,\n",
    "    coach_name VARCHAR,\n",
    "    rank INTEGER,\n",
    "    created_at TIMESTAMP,\n",
    "    updated_at TIMESTAMP,\n",
    "    FOREIGN KEY(championship_id) REFERENCES championships(id))'''\n",
    "players = '''CREATE TABLE IF NOT EXISTS players (\n",
    "    id INTEGER PRIMARY KEY AUTOINCREMENT,\n",
    "    first_name VARCHAR,\n",
    "    last_name VARCHAR,\n",
    "    birthdate DATE,\n",
    "    team_id INTEGER,\n",
    "    position VARCHAR,\n",
    "    nationality VARCHAR,\n",
    "    created_at TIMESTAMP,\n",
    "    updated_at TIMESTAMP,\n",
    "    FOREIGN KEY(team_id) REFERENCES teams(id))'''\n",
    "goals = '''CREATE TABLE IF NOT EXISTS goals (\n",
    "    id INTEGER PRIMARY KEY AUTOINCREMENT,\n",
    "    match_id INTEGER,\n",
    "    player_id INTEGER,\n",
    "    goal_type VARCHAR,\n",
    "    created_at TIMESTAMP,\n",
    "    updated_at TIMESTAMP,\n",
    "    FOREIGN KEY (player_id) REFERENCES players(id),\n",
    "    FOREIGN KEY (match_id) REFERENCES matchs(id))'''\n",
    "matchs = '''CREATE TABLE IF NOT EXISTS matchs(\n",
    "    id INTEGER PRIMARY KEY AUTOINCREMENT,\n",
    "    date DATIME,\n",
    "    place VARCHAR,\n",
    "    rainfall FLOAT,\n",
    "    temperature FLOAT,\n",
    "    created_at TIMESTAMP,\n",
    "    updated_at TIMESTAMP)'''\n",
    "teams_matches = '''CREATE TABLE IF NOT EXISTS teams_matches (\n",
    "    id INTEGER PRIMARY KEY AUTOINCREMENT,\n",
    "    match_id INTEGER,\n",
    "    team_id INTEGER,\n",
    "    home BOOLEAN,\n",
    "    team_goals INTEGER,\n",
    "    points INTEGER,\n",
    "    created_at TIMESTAMP,\n",
    "    updated_at TIMESTAMP,\n",
    "    FOREIGN KEY (team_id) REFERENCES teams(id)\n",
    "    FOREIGN KEY (match_id) REFERENCES matchs(id))'''\n"
   ]
  },
  {
   "cell_type": "code",
   "execution_count": 5,
   "metadata": {},
   "outputs": [],
   "source": [
    "# Fonctions de création et de suppression de table\n",
    "def create_table(query):\n",
    "    '''Create table from query specified'''\n",
    "    c.execute(query)\n",
    "    conn.commit()\n",
    "\n",
    "def drop_table(table_name):\n",
    "    '''Drop table specified'''\n",
    "    c.execute('''DROP TABLE %s''' % (table_name,))\n",
    "    conn.commit()"
   ]
  },
  {
   "cell_type": "code",
   "execution_count": 6,
   "metadata": {},
   "outputs": [],
   "source": [
    "# Fonction d'insertion \n",
    "def add_championship(name, country, start_year, end_year):\n",
    "    '''Add championship in table championships with values specified'''\n",
    "    c.execute('''INSERT INTO championships (name, country, start_year, end_year, created_at, updated_at) VALUES (?, ?, ?, ?, CURRENT_TIMESTAMP, CURRENT_TIMESTAMP)''', (name,country,start_year,end_year))\n",
    "    conn.commit()"
   ]
  },
  {
   "cell_type": "code",
   "execution_count": 3,
   "metadata": {},
   "outputs": [],
   "source": [
    "# Version pandas\n",
    "def insert_table(my_df, my_table):\n",
    "  '''Insert Dataframe into table specified'''\n",
    "  my_df.to_sql(my_table, conn, if_exists='append', index=False)\n",
    "\n",
    "def read_db(my_query):\n",
    "  '''Read sql query, read the db an return response in a dataframe'''\n",
    "  df = pd.read_sql(my_query, conn)\n",
    "  return df"
   ]
  },
  {
   "cell_type": "code",
   "execution_count": 7,
   "metadata": {},
   "outputs": [],
   "source": [
    "#Sandbox\n",
    "drop_table('championships')\n",
    "create_table(championships)\n",
    "create_table(matchs)\n",
    "create_table(teams)\n",
    "create_table(players)\n",
    "create_table(goals)\n",
    "create_table(teams_matches)\n",
    "\n",
    "add_championship('Ligue 1', 'France', 2020, 2021)"
   ]
  },
  {
   "cell_type": "code",
   "execution_count": 10,
   "metadata": {},
   "outputs": [
    {
     "output_type": "execute_result",
     "data": {
      "text/plain": [
       "   id     name country  start_year  end_year           created_at  \\\n",
       "0   1  Ligue 1  France        2020      2021  2021-06-28 12:56:07   \n",
       "\n",
       "            updated_at  \n",
       "0  2021-06-28 12:56:07  "
      ],
      "text/html": "<div>\n<style scoped>\n    .dataframe tbody tr th:only-of-type {\n        vertical-align: middle;\n    }\n\n    .dataframe tbody tr th {\n        vertical-align: top;\n    }\n\n    .dataframe thead th {\n        text-align: right;\n    }\n</style>\n<table border=\"1\" class=\"dataframe\">\n  <thead>\n    <tr style=\"text-align: right;\">\n      <th></th>\n      <th>id</th>\n      <th>name</th>\n      <th>country</th>\n      <th>start_year</th>\n      <th>end_year</th>\n      <th>created_at</th>\n      <th>updated_at</th>\n    </tr>\n  </thead>\n  <tbody>\n    <tr>\n      <th>0</th>\n      <td>1</td>\n      <td>Ligue 1</td>\n      <td>France</td>\n      <td>2020</td>\n      <td>2021</td>\n      <td>2021-06-28 12:56:07</td>\n      <td>2021-06-28 12:56:07</td>\n    </tr>\n  </tbody>\n</table>\n</div>"
     },
     "metadata": {},
     "execution_count": 10
    }
   ],
   "source": [
    "# Lis le contenu de la table\n",
    "df_championships = read_db('''SELECT * FROM championships''')\n",
    "df_championships"
   ]
  },
  {
   "cell_type": "code",
   "execution_count": 20,
   "metadata": {},
   "outputs": [
    {
     "output_type": "stream",
     "name": "stdout",
     "text": [
      "0\n"
     ]
    },
    {
     "output_type": "execute_result",
     "data": {
      "text/plain": [
       "{'Ligue 1': 1}"
      ]
     },
     "metadata": {},
     "execution_count": 20
    }
   ],
   "source": [
    "# Recup id et nom dans un dict\n",
    "championships_dict = {}\n",
    "for championship in range(len(df_championships)):\n",
    "    championship_dict = {df_championships.iloc[championship,1] : df_championships.iloc[championship, 0]}\n",
    "    championships_dict.update(championship_dict)\n",
    "championships_dict\n",
    "\n",
    "# map colonne avec dictionnaire des ids\n",
    "df_teams['championship_id'] = df_teams['championship'].map(championships_dict)\n",
    "df_teams"
   ]
  },
  {
   "cell_type": "code",
   "execution_count": null,
   "metadata": {},
   "outputs": [],
   "source": []
  }
 ]
}